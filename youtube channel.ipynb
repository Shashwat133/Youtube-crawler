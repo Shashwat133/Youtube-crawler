{
 "cells": [
  {
   "cell_type": "code",
   "execution_count": 3,
   "metadata": {},
   "outputs": [
    {
     "name": "stdout",
     "output_type": "stream",
     "text": [
      "Collecting youtube-search-python\n",
      "  Downloading youtube_search_python-1.4.6-py3-none-any.whl (69 kB)\n",
      "Collecting httpx\n",
      "  Downloading httpx-0.18.2-py3-none-any.whl (76 kB)\n",
      "Requirement already satisfied: sniffio in c:\\users\\imp20\\anaconda3\\lib\\site-packages (from httpx->youtube-search-python) (1.2.0)\n",
      "Requirement already satisfied: certifi in c:\\users\\imp20\\anaconda3\\lib\\site-packages (from httpx->youtube-search-python) (2020.12.5)\n",
      "Collecting httpcore<0.14.0,>=0.13.3\n",
      "  Downloading httpcore-0.13.6-py3-none-any.whl (58 kB)\n",
      "Collecting rfc3986[idna2008]<2,>=1.3\n",
      "  Downloading rfc3986-1.5.0-py2.py3-none-any.whl (31 kB)\n",
      "Collecting anyio==3.*\n",
      "  Downloading anyio-3.3.0-py3-none-any.whl (77 kB)\n",
      "Collecting h11<0.13,>=0.11\n",
      "  Downloading h11-0.12.0-py3-none-any.whl (54 kB)\n",
      "Requirement already satisfied: idna>=2.8 in c:\\users\\imp20\\anaconda3\\lib\\site-packages (from anyio==3.*->httpcore<0.14.0,>=0.13.3->httpx->youtube-search-python) (2.10)\n",
      "Installing collected packages: rfc3986, h11, anyio, httpcore, httpx, youtube-search-python\n",
      "  Attempting uninstall: anyio\n",
      "    Found existing installation: anyio 2.2.0\n",
      "    Uninstalling anyio-2.2.0:\n",
      "      Successfully uninstalled anyio-2.2.0\n",
      "Successfully installed anyio-3.3.0 h11-0.12.0 httpcore-0.13.6 httpx-0.18.2 rfc3986-1.5.0 youtube-search-python-1.4.6\n"
     ]
    }
   ],
   "source": [
    "!pip install youtube-search-python"
   ]
  },
  {
   "cell_type": "code",
   "execution_count": 4,
   "metadata": {},
   "outputs": [],
   "source": [
    "from youtubesearchpython import ChannelsSearch\n",
    "import json\n",
    "import sys\n",
    "import pandas as pd\n",
    "import numpy as np\n",
    "from collections import OrderedDict\n",
    "from pandas.io.json import json_normalize"
   ]
  },
  {
   "cell_type": "code",
   "execution_count": 5,
   "metadata": {},
   "outputs": [
    {
     "name": "stdout",
     "output_type": "stream",
     "text": [
      "Requirement already satisfied: pandas in c:\\users\\imp20\\anaconda3\\lib\\site-packages (1.2.4)\n",
      "Collecting pandas\n",
      "  Using cached pandas-1.3.0-cp38-cp38-win_amd64.whl (10.2 MB)\n",
      "Requirement already satisfied: python-dateutil>=2.7.3 in c:\\users\\imp20\\anaconda3\\lib\\site-packages (from pandas) (2.8.1)\n",
      "Requirement already satisfied: pytz>=2017.3 in c:\\users\\imp20\\anaconda3\\lib\\site-packages (from pandas) (2021.1)\n",
      "Requirement already satisfied: numpy>=1.17.3 in c:\\users\\imp20\\anaconda3\\lib\\site-packages (from pandas) (1.19.5)\n",
      "Requirement already satisfied: six>=1.5 in c:\\users\\imp20\\anaconda3\\lib\\site-packages (from python-dateutil>=2.7.3->pandas) (1.15.0)\n",
      "Installing collected packages: pandas\n",
      "Successfully installed pandas-1.3.0\n"
     ]
    }
   ],
   "source": [
    "!pip install --upgrade pandas --user"
   ]
  },
  {
   "cell_type": "code",
   "execution_count": 5,
   "metadata": {},
   "outputs": [],
   "source": [
    "book2 = pd.read_excel(r'D:\\job\\Youtube keywords.xlsx')"
   ]
  },
  {
   "cell_type": "code",
   "execution_count": 250,
   "metadata": {},
   "outputs": [
    {
     "name": "stderr",
     "output_type": "stream",
     "text": [
      "<ipython-input-250-68a8ce2ea564>:6: FutureWarning: pandas.io.json.json_normalize is deprecated, use pandas.json_normalize instead\n",
      "  df = json_normalize(data['result'])\n",
      "<ipython-input-250-68a8ce2ea564>:10: FutureWarning: pandas.io.json.json_normalize is deprecated, use pandas.json_normalize instead\n",
      "  df2=json_normalize(data1['result'])\n"
     ]
    }
   ],
   "source": [
    "keyword='aandolanjivi'\n",
    "channelsSearch = ChannelsSearch(keyword, limit = 100, region = 'IND')\n",
    "y=json.dumps(channelsSearch.result())\n",
    "data = json.loads(y)\n",
    "df1=pd.DataFrame()\n",
    "df = json_normalize(data['result'])\n",
    "channelsSearch.next()\n",
    "a=json.dumps(channelsSearch.result())\n",
    "data1 = json.loads(a)\n",
    "df2=json_normalize(data1['result'])\n",
    "df1 = pd.DataFrame(np.concatenate([df.values, df2.values]), columns=df.columns)\n",
    "df2 = pd.DataFrame()\n",
    "data1=None\n",
    "a=None\n",
    "z=None\n"
   ]
  },
  {
   "cell_type": "code",
   "execution_count": 251,
   "metadata": {},
   "outputs": [
    {
     "name": "stdout",
     "output_type": "stream",
     "text": [
      "36\n"
     ]
    }
   ],
   "source": [
    "print(len(df1))"
   ]
  },
  {
   "cell_type": "code",
   "execution_count": 252,
   "metadata": {},
   "outputs": [
    {
     "name": "stderr",
     "output_type": "stream",
     "text": [
      "<ipython-input-252-ca05ab325951>:4: FutureWarning: pandas.io.json.json_normalize is deprecated, use pandas.json_normalize instead\n",
      "  df3=json_normalize(data2['result'])\n"
     ]
    }
   ],
   "source": [
    "channelsSearch.next()\n",
    "r=json.dumps(channelsSearch.result())\n",
    "data2 = json.loads(r)\n",
    "df3=json_normalize(data2['result'])\n",
    "df4 = pd.DataFrame(np.concatenate([df1.values, df3.values]), columns=df.columns)"
   ]
  },
  {
   "cell_type": "code",
   "execution_count": 253,
   "metadata": {},
   "outputs": [
    {
     "name": "stdout",
     "output_type": "stream",
     "text": [
      "56\n"
     ]
    }
   ],
   "source": [
    "print(len(df4))"
   ]
  },
  {
   "cell_type": "code",
   "execution_count": 254,
   "metadata": {},
   "outputs": [
    {
     "name": "stderr",
     "output_type": "stream",
     "text": [
      "<ipython-input-254-fd2bea23dedb>:4: FutureWarning: pandas.io.json.json_normalize is deprecated, use pandas.json_normalize instead\n",
      "  df5=json_normalize(data3['result'])\n"
     ]
    }
   ],
   "source": [
    "channelsSearch.next()\n",
    "t=json.dumps(channelsSearch.result())\n",
    "data3 = json.loads(t)\n",
    "df5=json_normalize(data3['result'])\n",
    "df6 = pd.DataFrame(np.concatenate([df4.values, df5.values]), columns=df.columns)"
   ]
  },
  {
   "cell_type": "code",
   "execution_count": 255,
   "metadata": {},
   "outputs": [
    {
     "name": "stdout",
     "output_type": "stream",
     "text": [
      "76\n"
     ]
    }
   ],
   "source": [
    "print(len(df6))"
   ]
  },
  {
   "cell_type": "code",
   "execution_count": 256,
   "metadata": {},
   "outputs": [],
   "source": [
    "df15= pd.DataFrame(np.concatenate([df14.values, df6.values]), columns=df6.columns)"
   ]
  },
  {
   "cell_type": "code",
   "execution_count": 257,
   "metadata": {},
   "outputs": [
    {
     "data": {
      "text/html": [
       "<div>\n",
       "<style scoped>\n",
       "    .dataframe tbody tr th:only-of-type {\n",
       "        vertical-align: middle;\n",
       "    }\n",
       "\n",
       "    .dataframe tbody tr th {\n",
       "        vertical-align: top;\n",
       "    }\n",
       "\n",
       "    .dataframe thead th {\n",
       "        text-align: right;\n",
       "    }\n",
       "</style>\n",
       "<table border=\"1\" class=\"dataframe\">\n",
       "  <thead>\n",
       "    <tr style=\"text-align: right;\">\n",
       "      <th></th>\n",
       "      <th>type</th>\n",
       "      <th>id</th>\n",
       "      <th>title</th>\n",
       "      <th>thumbnails</th>\n",
       "      <th>videoCount</th>\n",
       "      <th>descriptionSnippet</th>\n",
       "      <th>subscribers</th>\n",
       "      <th>link</th>\n",
       "    </tr>\n",
       "  </thead>\n",
       "  <tbody>\n",
       "    <tr>\n",
       "      <th>0</th>\n",
       "      <td>channel</td>\n",
       "      <td>UCKKitmkH-4x3ffWeMrPPk5w</td>\n",
       "      <td>Khabar खबर TV</td>\n",
       "      <td>[{'url': '//yt3.ggpht.com/ytc/AKedOLQXsaKBkJZT...</td>\n",
       "      <td>2,388</td>\n",
       "      <td>None</td>\n",
       "      <td>525K subscribers</td>\n",
       "      <td>https://www.youtube.com/channel/UCKKitmkH-4x3f...</td>\n",
       "    </tr>\n",
       "    <tr>\n",
       "      <th>1</th>\n",
       "      <td>channel</td>\n",
       "      <td>UClp6s08bDR3NAljGUMbiyEg</td>\n",
       "      <td>Paryavaran Post</td>\n",
       "      <td>[{'url': '//yt3.ggpht.com/ytc/AKedOLStQVSMgbYT...</td>\n",
       "      <td>3,121</td>\n",
       "      <td>[{'text': 'Paryavaran Post is a initiative whi...</td>\n",
       "      <td>None</td>\n",
       "      <td>https://www.youtube.com/channel/UClp6s08bDR3NA...</td>\n",
       "    </tr>\n",
       "    <tr>\n",
       "      <th>2</th>\n",
       "      <td>channel</td>\n",
       "      <td>UC5iZgkvc_6ZnpUQMeDeg1vw</td>\n",
       "      <td>MBC TV</td>\n",
       "      <td>[{'url': '//yt3.ggpht.com/O1MJVFpzH-ale_hWzgSp...</td>\n",
       "      <td>34,492</td>\n",
       "      <td>[{'text': 'MBC TV, is the latest entrant into ...</td>\n",
       "      <td>None</td>\n",
       "      <td>https://www.youtube.com/channel/UC5iZgkvc_6Znp...</td>\n",
       "    </tr>\n",
       "    <tr>\n",
       "      <th>3</th>\n",
       "      <td>channel</td>\n",
       "      <td>UCQLEbraENUGWh6p1Rv664rQ</td>\n",
       "      <td>PTC News</td>\n",
       "      <td>[{'url': '//yt3.ggpht.com/ytc/AKedOLSpbsuX2Kvw...</td>\n",
       "      <td>51,472</td>\n",
       "      <td>[{'text': 'PTC NEWS, the leading Punjabi News ...</td>\n",
       "      <td>1.19M subscribers</td>\n",
       "      <td>https://www.youtube.com/channel/UCQLEbraENUGWh...</td>\n",
       "    </tr>\n",
       "    <tr>\n",
       "      <th>4</th>\n",
       "      <td>channel</td>\n",
       "      <td>UCrXvTLS-1ye7MmZhsi_cpOQ</td>\n",
       "      <td>Lok Sabha TV</td>\n",
       "      <td>[{'url': '//yt3.ggpht.com/ytc/AKedOLR2NCiHpGI_...</td>\n",
       "      <td>8,500</td>\n",
       "      <td>[{'text': 'Lok Sabha Television is a Parliamen...</td>\n",
       "      <td>915K subscribers</td>\n",
       "      <td>https://www.youtube.com/channel/UCrXvTLS-1ye7M...</td>\n",
       "    </tr>\n",
       "    <tr>\n",
       "      <th>...</th>\n",
       "      <td>...</td>\n",
       "      <td>...</td>\n",
       "      <td>...</td>\n",
       "      <td>...</td>\n",
       "      <td>...</td>\n",
       "      <td>...</td>\n",
       "      <td>...</td>\n",
       "      <td>...</td>\n",
       "    </tr>\n",
       "    <tr>\n",
       "      <th>683</th>\n",
       "      <td>channel</td>\n",
       "      <td>UCDF6uRl8IqUGRIGiJ1cVPwg</td>\n",
       "      <td>पोल खोल बैंड बजा</td>\n",
       "      <td>[{'url': '//yt3.ggpht.com/ytc/AKedOLRYA2YvGMsT...</td>\n",
       "      <td>15</td>\n",
       "      <td>None</td>\n",
       "      <td>9 subscribers</td>\n",
       "      <td>https://www.youtube.com/channel/UCDF6uRl8IqUGR...</td>\n",
       "    </tr>\n",
       "    <tr>\n",
       "      <th>684</th>\n",
       "      <td>channel</td>\n",
       "      <td>UCu5uutxjJ0dbxRaqixnutoQ</td>\n",
       "      <td>BharatVerse</td>\n",
       "      <td>[{'url': '//yt3.ggpht.com/ytc/AKedOLREmHEd9UV9...</td>\n",
       "      <td>12</td>\n",
       "      <td>[{'text': 'We pick up some interesting stuff f...</td>\n",
       "      <td>None</td>\n",
       "      <td>https://www.youtube.com/channel/UCu5uutxjJ0dbx...</td>\n",
       "    </tr>\n",
       "    <tr>\n",
       "      <th>685</th>\n",
       "      <td>channel</td>\n",
       "      <td>UCSpSdc90HariOrquby5y8FA</td>\n",
       "      <td>Filmy Indian</td>\n",
       "      <td>[{'url': '//yt3.ggpht.com/RpOQF_T_dptnlEK2_Wf1...</td>\n",
       "      <td>14</td>\n",
       "      <td>[{'text': 'All Film and webseries tv shows rev...</td>\n",
       "      <td>5 subscribers</td>\n",
       "      <td>https://www.youtube.com/channel/UCSpSdc90HariO...</td>\n",
       "    </tr>\n",
       "    <tr>\n",
       "      <th>686</th>\n",
       "      <td>channel</td>\n",
       "      <td>UC9sc_-ItF5BQbGyQHCruBpQ</td>\n",
       "      <td>हिन्दी कविता - शिवेन्द्र</td>\n",
       "      <td>[{'url': '//yt3.ggpht.com/ytc/AKedOLR29jV_5FED...</td>\n",
       "      <td>35</td>\n",
       "      <td>[{'text': 'हिन्दी भाषा के विकास के लिए।'}]</td>\n",
       "      <td>74 subscribers</td>\n",
       "      <td>https://www.youtube.com/channel/UC9sc_-ItF5BQb...</td>\n",
       "    </tr>\n",
       "    <tr>\n",
       "      <th>687</th>\n",
       "      <td>channel</td>\n",
       "      <td>UCmUPaVzMoRPE63CQMt1RJ7Q</td>\n",
       "      <td>Astitwa 'Ankur'</td>\n",
       "      <td>[{'url': '//yt3.ggpht.com/ytc/AKedOLT_CBnDxU9A...</td>\n",
       "      <td>16</td>\n",
       "      <td>[{'text': 'Coming up.'}]</td>\n",
       "      <td>309 subscribers</td>\n",
       "      <td>https://www.youtube.com/channel/UCmUPaVzMoRPE6...</td>\n",
       "    </tr>\n",
       "  </tbody>\n",
       "</table>\n",
       "<p>688 rows × 8 columns</p>\n",
       "</div>"
      ],
      "text/plain": [
       "        type                        id                     title  \\\n",
       "0    channel  UCKKitmkH-4x3ffWeMrPPk5w             Khabar खबर TV   \n",
       "1    channel  UClp6s08bDR3NAljGUMbiyEg           Paryavaran Post   \n",
       "2    channel  UC5iZgkvc_6ZnpUQMeDeg1vw                    MBC TV   \n",
       "3    channel  UCQLEbraENUGWh6p1Rv664rQ                  PTC News   \n",
       "4    channel  UCrXvTLS-1ye7MmZhsi_cpOQ              Lok Sabha TV   \n",
       "..       ...                       ...                       ...   \n",
       "683  channel  UCDF6uRl8IqUGRIGiJ1cVPwg          पोल खोल बैंड बजा   \n",
       "684  channel  UCu5uutxjJ0dbxRaqixnutoQ               BharatVerse   \n",
       "685  channel  UCSpSdc90HariOrquby5y8FA              Filmy Indian   \n",
       "686  channel  UC9sc_-ItF5BQbGyQHCruBpQ  हिन्दी कविता - शिवेन्द्र   \n",
       "687  channel  UCmUPaVzMoRPE63CQMt1RJ7Q           Astitwa 'Ankur'   \n",
       "\n",
       "                                            thumbnails videoCount  \\\n",
       "0    [{'url': '//yt3.ggpht.com/ytc/AKedOLQXsaKBkJZT...      2,388   \n",
       "1    [{'url': '//yt3.ggpht.com/ytc/AKedOLStQVSMgbYT...      3,121   \n",
       "2    [{'url': '//yt3.ggpht.com/O1MJVFpzH-ale_hWzgSp...     34,492   \n",
       "3    [{'url': '//yt3.ggpht.com/ytc/AKedOLSpbsuX2Kvw...     51,472   \n",
       "4    [{'url': '//yt3.ggpht.com/ytc/AKedOLR2NCiHpGI_...      8,500   \n",
       "..                                                 ...        ...   \n",
       "683  [{'url': '//yt3.ggpht.com/ytc/AKedOLRYA2YvGMsT...         15   \n",
       "684  [{'url': '//yt3.ggpht.com/ytc/AKedOLREmHEd9UV9...         12   \n",
       "685  [{'url': '//yt3.ggpht.com/RpOQF_T_dptnlEK2_Wf1...         14   \n",
       "686  [{'url': '//yt3.ggpht.com/ytc/AKedOLR29jV_5FED...         35   \n",
       "687  [{'url': '//yt3.ggpht.com/ytc/AKedOLT_CBnDxU9A...         16   \n",
       "\n",
       "                                    descriptionSnippet        subscribers  \\\n",
       "0                                                 None   525K subscribers   \n",
       "1    [{'text': 'Paryavaran Post is a initiative whi...               None   \n",
       "2    [{'text': 'MBC TV, is the latest entrant into ...               None   \n",
       "3    [{'text': 'PTC NEWS, the leading Punjabi News ...  1.19M subscribers   \n",
       "4    [{'text': 'Lok Sabha Television is a Parliamen...   915K subscribers   \n",
       "..                                                 ...                ...   \n",
       "683                                               None      9 subscribers   \n",
       "684  [{'text': 'We pick up some interesting stuff f...               None   \n",
       "685  [{'text': 'All Film and webseries tv shows rev...      5 subscribers   \n",
       "686         [{'text': 'हिन्दी भाषा के विकास के लिए।'}]     74 subscribers   \n",
       "687                           [{'text': 'Coming up.'}]    309 subscribers   \n",
       "\n",
       "                                                  link  \n",
       "0    https://www.youtube.com/channel/UCKKitmkH-4x3f...  \n",
       "1    https://www.youtube.com/channel/UClp6s08bDR3NA...  \n",
       "2    https://www.youtube.com/channel/UC5iZgkvc_6Znp...  \n",
       "3    https://www.youtube.com/channel/UCQLEbraENUGWh...  \n",
       "4    https://www.youtube.com/channel/UCrXvTLS-1ye7M...  \n",
       "..                                                 ...  \n",
       "683  https://www.youtube.com/channel/UCDF6uRl8IqUGR...  \n",
       "684  https://www.youtube.com/channel/UCu5uutxjJ0dbx...  \n",
       "685  https://www.youtube.com/channel/UCSpSdc90HariO...  \n",
       "686  https://www.youtube.com/channel/UC9sc_-ItF5BQb...  \n",
       "687  https://www.youtube.com/channel/UCmUPaVzMoRPE6...  \n",
       "\n",
       "[688 rows x 8 columns]"
      ]
     },
     "execution_count": 257,
     "metadata": {},
     "output_type": "execute_result"
    }
   ],
   "source": [
    "df15"
   ]
  },
  {
   "cell_type": "code",
   "execution_count": 258,
   "metadata": {},
   "outputs": [],
   "source": [
    "df15.to_csv('demo.csv')"
   ]
  },
  {
   "cell_type": "code",
   "execution_count": null,
   "metadata": {},
   "outputs": [],
   "source": []
  }
 ],
 "metadata": {
  "kernelspec": {
   "display_name": "Python 3",
   "language": "python",
   "name": "python3"
  },
  "language_info": {
   "codemirror_mode": {
    "name": "ipython",
    "version": 3
   },
   "file_extension": ".py",
   "mimetype": "text/x-python",
   "name": "python",
   "nbconvert_exporter": "python",
   "pygments_lexer": "ipython3",
   "version": "3.8.8"
  }
 },
 "nbformat": 4,
 "nbformat_minor": 4
}
